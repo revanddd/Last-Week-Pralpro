{
 "cells": [
  {
   "cell_type": "code",
   "execution_count": 3,
   "metadata": {},
   "outputs": [
    {
     "name": "stdout",
     "output_type": "stream",
     "text": [
      "Tanggal 2022-05-02 00:00:00 memiliki selisih 765 hari.\n",
      "Tanggal 1998-03-19 00:00:00 memiliki selisih 9575 hari.\n",
      "Tanggal 2000-08-01 00:00:00 memiliki selisih 8709 hari.\n",
      "Tanggal 2001-10-08 00:00:00 memiliki selisih 8276 hari.\n",
      "Tanggal 2003-08-09 00:00:00 memiliki selisih 7606 hari.\n",
      "Tanggal 2006-11-10 00:00:00 memiliki selisih 6417 hari.\n"
     ]
    }
   ],
   "source": [
    "import re\n",
    "from datetime import datetime\n",
    "\n",
    "teks = \"\"\"\n",
    "Le Sserafim debut pada tanggal 2022-05-02, dan memiliki 5 anggota yaitu \n",
    "Miyawaki Sakura, Kim Chaewon, Lee Yunjin, Nakamura Kazuha, dan Hong Eunchae. \n",
    "Sakura lahir pada tanggal 1998-03-19, Chaewon lahir pada tanggal 2000-08-01, \n",
    "Yunjin lahir pada tanggal 2001-10-08, Kazuha lahir pada tanggal 2003-08-09, \n",
    "dan Eunchae lahir pada tanggal 2006-11-10.\n",
    "\"\"\"\n",
    "\n",
    "pola = r'\\b\\d{4}-\\d{2}-\\d{2}\\b'\n",
    "\n",
    "tanggal = re.findall(pola, teks)\n",
    "\n",
    "tanggal_sekarang = datetime.now()\n",
    "\n",
    "for t in tanggal:\n",
    "    t_datetime = datetime.strptime(t, '%Y-%m-%d')\n",
    "    selisih_hari = (tanggal_sekarang - t_datetime).days\n",
    "    print(f\"Tanggal {t} 00:00:00 memiliki selisih {selisih_hari} hari.\")\n"
   ]
  },
  {
   "cell_type": "code",
   "execution_count": 4,
   "metadata": {},
   "outputs": [
    {
     "name": "stdout",
     "output_type": "stream",
     "text": [
      "zzouha@mail.com username: zzouha , password: t2geX2X2\n",
      "nynyeon@gmail.co.id username: nynyeon , password: Hh5SC2bK\n",
      "kqryna@getnada.com username: kqryna , password: Pzhxw1pV\n",
      "qkyoujyn@tokopedia.com username: qkyoujyn , password: 2VNKeYVu\n"
     ]
    }
   ],
   "source": [
    "import re\n",
    "import random\n",
    "import string\n",
    "\n",
    "teks = \"\"\"\n",
    "Berikut adalah daftar email dan nama pengguna dari mailing list:\n",
    "zzouha@mail.com dimiliki oleh Kazuha\n",
    "nynyeon@gmail.co.id dimiliki oleh Nayeon\n",
    "kqryna@getnada.com dimiliki oleh Karina\n",
    "qkyoujyn@tokopedia.com dimiliki oleh Kyujin\n",
    "\"\"\"\n",
    "\n",
    "pola_email = r'\\b[A-Za-z0-9._%+-]+@[A-Za-z0-9.-]+\\.[A-Z|a-z]{2,}\\b'\n",
    "\n",
    "email = re.findall(pola_email, teks)\n",
    "\n",
    "usn = [e.split('@')[0] for e in email]\n",
    "\n",
    "def generate_password(length=8):\n",
    "    characters = string.ascii_letters + string.digits\n",
    "    return ''.join(random.choice(characters) for i in range(length))\n",
    "\n",
    "for i in range(len(email)):\n",
    "    username = usn[i]\n",
    "    password = generate_password()\n",
    "    print(f\"{email[i]} username: {username} , password: {password}\")\n"
   ]
  }
 ],
 "metadata": {
  "kernelspec": {
   "display_name": "Python 3",
   "language": "python",
   "name": "python3"
  },
  "language_info": {
   "codemirror_mode": {
    "name": "ipython",
    "version": 3
   },
   "file_extension": ".py",
   "mimetype": "text/x-python",
   "name": "python",
   "nbconvert_exporter": "python",
   "pygments_lexer": "ipython3",
   "version": "3.12.0"
  }
 },
 "nbformat": 4,
 "nbformat_minor": 2
}
